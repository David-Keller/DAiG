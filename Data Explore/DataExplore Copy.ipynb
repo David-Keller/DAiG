{
 "cells": [
  {
   "cell_type": "markdown",
   "metadata": {},
   "source": [
    "# Speed Dating Data Exploration\n",
    "\n",
    "For Capstone we are using the data that was collected from a speed dating event our goal here is to analyze the data, Identify anything that we may find interesting as well as use find any columns that will aid us in predicting future matches for future speed dating events. Originally this project was going to be about creating an algorithm that will identify any anomalies that are detected in the static graphs; however due to the difficulty of the project was well as time we had to change the objective of the project. The objective of the project is to now use the attributes of the speed daters nodes and graph components in order to create predictions "
   ]
  },
  {
   "cell_type": "code",
   "execution_count": 2,
   "metadata": {},
   "outputs": [],
   "source": [
    "import pandas as pd\n",
    "import numpy as np\n",
    "import matplotlib.pyplot as plt\n",
    "import csv\n",
    "%matplotlib inline\n",
    "import igraph\n",
    "from igraph import *\n",
    "import math\n",
    "import plotly.plotly as py\n",
    "from plotly.graph_objs import *\n",
    "import networkx as nx\n"
   ]
  },
  {
   "cell_type": "code",
   "execution_count": 16,
   "metadata": {},
   "outputs": [],
   "source": [
    "# Use pandas to read the csv file \n",
    "df = pd.read_csv('C:/Users/user1/Desktop/speeddating.csv')\n",
    "df = pd.DataFrame(df)\n",
    "\n"
   ]
  },
  {
   "cell_type": "code",
   "execution_count": 17,
   "metadata": {},
   "outputs": [
    {
     "data": {
      "text/plain": [
       "iid         0.000000\n",
       "id          0.000119\n",
       "gender      0.000000\n",
       "idg         0.000000\n",
       "condtn      0.000000\n",
       "wave        0.000000\n",
       "round       0.000000\n",
       "position    0.000000\n",
       "positin1    0.220339\n",
       "order       0.000000\n",
       "partner     0.000000\n",
       "pid         0.001194\n",
       "match       0.000000\n",
       "int_corr    0.018859\n",
       "samerace    0.000000\n",
       "age_o       0.012413\n",
       "race_o      0.008713\n",
       "pf_o_att    0.010623\n",
       "pf_o_sin    0.010623\n",
       "pf_o_int    0.010623\n",
       "pf_o_fun    0.011697\n",
       "pf_o_amb    0.012772\n",
       "pf_o_sha    0.015397\n",
       "dec_o       0.000000\n",
       "attr_o      0.025304\n",
       "sinc_o      0.034256\n",
       "intel_o     0.036524\n",
       "fun_o       0.042970\n",
       "amb_o       0.086178\n",
       "shar_o      0.128432\n",
       "              ...   \n",
       "amb1_3      0.525662\n",
       "shar1_3     0.525662\n",
       "attr7_3     0.759370\n",
       "sinc7_3     0.759370\n",
       "intel7_3    0.759370\n",
       "fun7_3      0.759370\n",
       "amb7_3      0.759370\n",
       "shar7_3     0.759370\n",
       "attr4_3     0.646813\n",
       "sinc4_3     0.646813\n",
       "intel4_3    0.646813\n",
       "fun4_3      0.646813\n",
       "amb4_3      0.646813\n",
       "shar4_3     0.646813\n",
       "attr2_3     0.646813\n",
       "sinc2_3     0.646813\n",
       "intel2_3    0.646813\n",
       "fun2_3      0.646813\n",
       "amb2_3      0.646813\n",
       "shar2_3     0.759370\n",
       "attr3_3     0.525662\n",
       "sinc3_3     0.525662\n",
       "intel3_3    0.525662\n",
       "fun3_3      0.525662\n",
       "amb3_3      0.525662\n",
       "attr5_3     0.759370\n",
       "sinc5_3     0.759370\n",
       "intel5_3    0.759370\n",
       "fun5_3      0.759370\n",
       "amb5_3      0.759370\n",
       "Length: 195, dtype: float64"
      ]
     },
     "execution_count": 17,
     "metadata": {},
     "output_type": "execute_result"
    }
   ],
   "source": [
    "# Gives us a percentage of the null values that are in our dataset \n",
    "df.isnull().sum()/df.shape[0]"
   ]
  },
  {
   "cell_type": "markdown",
   "metadata": {},
   "source": [
    "# Explore Age \n",
    "\n",
    "Age is just a number, this rule will only relate if two people who are dating are over 18. Anyway, the purpose of the of exploring the age is so we may use this attribute as a filter or even a way to use it as an anomaly detector for our capstone."
   ]
  },
  {
   "cell_type": "code",
   "execution_count": 30,
   "metadata": {},
   "outputs": [
    {
     "name": "stdout",
     "output_type": "stream",
     "text": [
      "95\n",
      "104\n",
      "0\n",
      "0\n"
     ]
    },
    {
     "data": {
      "image/png": "[encoded data removed]",
      "text/plain": [
       "<matplotlib.figure.Figure at 0xb156f3ae10>"
      ]
     },
     "metadata": {},
     "output_type": "display_data"
    }
   ],
   "source": [
    "age = df['age']\n",
    "age_o = df['age_o']\n",
    "\n",
    "# Check to see the count of the missing data \n",
    "print(age.isnull().sum())\n",
    "print(age_o.isnull().sum())\n",
    "\n",
    "# Replace the nulls with the mean of the column set \n",
    "age_mean = age.mean()\n",
    "age_omean = age_o.mean()\n",
    "\n",
    "# Fill the NA with the mean of the age columns \n",
    "age=age.fillna(age_mean)\n",
    "age_o=age_o.fillna(age_omean)\n",
    "\n",
    "# Check to see the count of the missing data \n",
    "print(age.isnull().sum())\n",
    "print(age_o.isnull().sum())\n",
    "\n",
    "# Show the distrbution of age in the histogram\n",
    "df.hist(column='age')\n",
    "\n",
    "## This is a label to create 1 will represent 1 yes and 0 will represent no \n",
    "df['elderly'] = np.where(df['age']>=50, 1, 0) \n",
    "df['elderly_o'] = np.where(df['age_o']>=50, 1, 0) "
   ]
  },
  {
   "cell_type": "code",
   "execution_count": 33,
   "metadata": {},
   "outputs": [],
   "source": [
    "old_o = df['elderly_o']\n",
    "old= df['elderly']\n",
    "# unique subject number, group(wave id gender)\n",
    "iiD = df['iid']\n",
    "# Subject within the wave \n",
    "pers_id = df['id']\n",
    "#  partner's iid number \n",
    "pid = df['pid']\n",
    "\n",
    "match = df['match']\n",
    "part_match = df['dec_o']\n",
    "# Create a network and display a filtered network where only the elderly are connected and they match\n",
    "def ElderConnections():\n",
    "    gr=Graph()\n",
    "    gr.add_vertices(iiD.nunique())\n",
    "    gr.vs[\"person\"] = iiD.unique()\n",
    "    for n in range(0,iiD.size):\n",
    "        if not math.isnan(iiD[n]) and not math.isnan(pid[n]):\n",
    "            curriiD=iiD[n]-1\n",
    "            currpid= int(pid[n])-1\n",
    "            if iiD[n]>117:\n",
    "                curriiD = curriiD - 1\n",
    "            if pid[n]>117:\n",
    "                currpid = currpid-1\n",
    "            if gr.get_eid(curriiD, currpid, directed=False, error=False) == -1 and old[n] ==1 and old_o[n]==1 and match[n]==1 and part_match==1 :\n",
    "                gr.add_edges([(curriiD, currpid)])\n",
    "    gr.vs[\"label\"] = gr.vs[\"person\"]\n",
    "    lout =  gr.layout(\"kk\")\n",
    "    cmty = gr.community_multilevel()\n",
    "    my_graph= plot(cmty, layout=lout, bbox=(3000,3000), mark_groups=True, vertex_size=30, vertex_label_size=15) \n",
    "    my_graph.show()\n",
    "        \n",
    "        \n",
    "    "
   ]
  },
  {
   "cell_type": "code",
   "execution_count": 38,
   "metadata": {},
   "outputs": [],
   "source": [
    "# Create a network and display a filtered network where a couple is one old and the other is not and they match \n",
    "def ElderConnections2():\n",
    "    gr=Graph()\n",
    "    gr.add_vertices(iiD.nunique())\n",
    "    gr.vs[\"person\"] = iiD.unique()\n",
    "    for n in range(0,iiD.size):\n",
    "        if not math.isnan(iiD[n]) and not math.isnan(pid[n]):\n",
    "            curriiD=iiD[n]-1\n",
    "            currpid= int(pid[n])-1\n",
    "            if iiD[n]>117:\n",
    "                curriiD = curriiD - 1\n",
    "            if pid[n]>117:\n",
    "                currpid = currpid-1\n",
    "            if gr.get_eid(curriiD, currpid, directed=False, error=False) == -1 and old[n] ==1 and old_o[n]==0 and match[n]==1 and part_match==0 :\n",
    "                gr.add_edges([(curriiD, currpid)])\n",
    "    gr.vs[\"label\"] = gr.vs[\"person\"]\n",
    "    lout =  gr.layout(\"kk\")\n",
    "    cmty = gr.community_multilevel()\n",
    "    my_graph= plot(cmty, layout=lout, bbox=(3000,3000), mark_groups=True, vertex_size=30, vertex_label_size=15) \n",
    "    my_graph.show()"
   ]
  },
  {
   "cell_type": "code",
   "execution_count": 39,
   "metadata": {},
   "outputs": [],
   "source": [
    "# Create a network where only the people participating are classified as elderly \n",
    "def ElderConnections3():\n",
    "    gr=Graph()\n",
    "    gr.add_vertices(iiD.nunique())\n",
    "    gr.vs[\"person\"] = iiD.unique()\n",
    "    for n in range(0,iiD.size):\n",
    "        if not math.isnan(iiD[n]) and not math.isnan(pid[n]):\n",
    "            curriiD=iiD[n]-1\n",
    "            currpid= int(pid[n])-1\n",
    "            if iiD[n]>117:\n",
    "                curriiD = curriiD - 1\n",
    "            if pid[n]>117:\n",
    "                currpid = currpid-1\n",
    "            if gr.get_eid(curriiD, currpid, directed=False, error=False) == -1 and old[n] ==1:\n",
    "                gr.add_edges([(curriiD, currpid)])\n",
    "    gr.vs[\"label\"] = gr.vs[\"person\"]\n",
    "    lout =  gr.layout(\"kk\")\n",
    "    cmty = gr.community_multilevel()\n",
    "    my_graph= plot(cmty, layout=lout, bbox=(3000,3000), mark_groups=True, vertex_size=30, vertex_label_size=15) \n",
    "    my_graph.show()"
   ]
  },
  {
   "cell_type": "code",
   "execution_count": 36,
   "metadata": {},
   "outputs": [],
   "source": [
    "ElderConnections()"
   ]
  },
  {
   "cell_type": "code",
   "execution_count": 37,
   "metadata": {},
   "outputs": [],
   "source": [
    "ElderConnections2()"
   ]
  },
  {
   "cell_type": "code",
   "execution_count": 40,
   "metadata": {},
   "outputs": [],
   "source": [
    "ElderConnections3()"
   ]
  },
  {
   "cell_type": "markdown",
   "metadata": {},
   "source": [
    "## Explore the Race \n",
    "1= African-American/Black<br>\n",
    "2= Caucasian/White<br>\n",
    "3= Hispanic/Latino<br>\n",
    "4=Asian<br>\n",
    "5= Native American<br>\n",
    "6=Other<br>\n",
    "\n",
    "Race is something where we decided that it can have a huge impact on how the speed daters will use as a component in when it comes to deciding if they see the partner as a match or not "
   ]
  },
  {
   "cell_type": "code",
   "execution_count": 21,
   "metadata": {},
   "outputs": [
    {
     "name": "stdout",
     "output_type": "stream",
     "text": [
      "2.0    4727\n",
      "4.0    1982\n",
      "3.0     664\n",
      "6.0     522\n",
      "1.0     420\n",
      "0.0      63\n",
      "dtype: int64\n"
     ]
    },
    {
     "data": {
      "image/png": "[encoded data removed]",
      "text/plain": [
       "<matplotlib.figure.Figure at 0xb156e7c518>"
      ]
     },
     "metadata": {},
     "output_type": "display_data"
    }
   ],
   "source": [
    "# For every row that has the race identified as nan make it as a 0.\n",
    "df['race'] = df['race'].replace(np.nan, 0)\n",
    "\n",
    "# Race of partner \n",
    "df ['race_o'] = df['race_o'].replace(np.nan,0)\n",
    "\n",
    "# Display the race count \n",
    "print(pd.value_counts(df['race'].values,))\n",
    "\n",
    "# Create a pie chart with the races involved in the speed dating event \n",
    "labels= ['Black', 'Euro', 'Latino', 'Asian', 'Other']\n",
    "sizes = [420,4727,664,1982,63]\n",
    "colors = ['b','r','g','c','y','coral']\n",
    "plt.pie(sizes,explode=None,labels=labels,autopct='%1.1f%%',colors=colors )\n",
    "plt.show()"
   ]
  },
  {
   "cell_type": "code",
   "execution_count": 22,
   "metadata": {},
   "outputs": [
    {
     "name": "stdout",
     "output_type": "stream",
     "text": [
      "0\n",
      "0    5062\n",
      "1    3316\n",
      "dtype: int64\n"
     ]
    },
    {
     "data": {
      "image/png": "[encoded data removed]",
      "text/plain": [
       "<matplotlib.figure.Figure at 0xb156e37828>"
      ]
     },
     "metadata": {},
     "output_type": "display_data"
    }
   ],
   "source": [
    "# Race is not correct, its ethnicity \n",
    "same_eb = df['samerace']\n",
    "\n",
    "# Display any count of missing data in gender column \n",
    "print(same_eb.isnull().sum())\n",
    "\n",
    "# No need to fix the same race column due to not having any null values \n",
    "\n",
    "# Display the value counts\n",
    "print(pd.value_counts(same_eb.values,))\n",
    "\n",
    "label_SameRace = [\"No\", \"Yes\"]\n",
    "sizes = [5062,3316]\n",
    "colors =[\"r\",\"g\"]\n",
    "# autopct='%1.1f%%'\n",
    "plt.pie(sizes,explode=None,labels=label_SameRace,autopct='%1.1f%%',colors=colors )\n",
    "plt.show()"
   ]
  },
  {
   "cell_type": "code",
   "execution_count": 25,
   "metadata": {},
   "outputs": [],
   "source": [
    "# Read the data, we are going to use this in order to display a network graph and show any connections with the nodes \n",
    "fd = pd.read_csv('C:/Users/user1/Desktop/speeddating.csv')\n",
    "# unique subject number, group(wave id gender)\n",
    "iiD = fd['iid']\n",
    "# Subject within the wave \n",
    "pers_id = fd['id']\n",
    "#  partner's iid number \n",
    "pid = fd['pid']\n",
    "# partner id \n",
    "part_id = fd['partner']\n",
    "# Match as in did the partner like the date\n",
    "match = fd['match']\n",
    "#  Did the partner's partner like him/her back? \n",
    "part_match = fd['dec_o']\n",
    "# Categorical attribute, are the two people who are dating in belong to the same race/ ethinic background \n",
    "sr = fd['samerace']\n",
    "# Attraction rating \n",
    "partner_rate = fd['attr_o']\n",
    "\n",
    "partner_rate.fillna(-1,inplace=True)\n",
    "\n",
    "\n",
    "# Create a function that will gives us a graph of the speed daters that had partners with the same race and they both like each other (match)\n",
    "def sameraceConnect():\n",
    "    gr=Graph()\n",
    "    gr.add_vertices(iiD.nunique())\n",
    "    gr.vs[\"person\"] = iiD.unique()\n",
    "    for n in range(0,iiD.size):\n",
    "        if not math.isnan(iiD[n]) and not math.isnan(pid[n]):\n",
    "            curriiD=iiD[n]-1\n",
    "            currpid= int(pid[n])-1\n",
    "            if iiD[n]>117:\n",
    "                curriiD = curriiD - 1\n",
    "            if pid[n]>117:\n",
    "                currpid = currpid-1\n",
    "            if gr.get_eid(curriiD, currpid, directed=False, error=False) == -1 and match[n] == 1 and part_match[n] == 1 and sr[n] == 1:\n",
    "                gr.add_edges([(curriiD, currpid)])\n",
    "    gr.vs[\"label\"] = gr.vs[\"person\"]\n",
    "    lout =  gr.layout(\"kk\")\n",
    "    cmty = gr.community_multilevel()\n",
    "    my_graph= plot(cmty, layout=lout, bbox=(3000,3000), mark_groups=True, vertex_size=30, vertex_label_size=15)\n",
    "    my_graph.show()"
   ]
  },
  {
   "cell_type": "code",
   "execution_count": 26,
   "metadata": {},
   "outputs": [],
   "source": [
    "sameraceConnect()"
   ]
  },
  {
   "cell_type": "code",
   "execution_count": 27,
   "metadata": {},
   "outputs": [],
   "source": [
    "#Create a function that will gives us a graph of the speed daters that had partners that match eachother but they belong to a different race \n",
    "def diffraceConnect():\n",
    "    gr=Graph()\n",
    "    gr.add_vertices(iiD.nunique())\n",
    "    gr.vs[\"person\"] = iiD.unique()\n",
    "    for n in range(0,iiD.size):\n",
    "        if not math.isnan(iiD[n]) and not math.isnan(pid[n]):\n",
    "            curriiD=iiD[n]-1\n",
    "            currpid= int(pid[n])-1\n",
    "            if iiD[n]>117:\n",
    "                curriiD = curriiD - 1\n",
    "            if pid[n]>117:\n",
    "                currpid = currpid-1\n",
    "            if gr.get_eid(curriiD, currpid, directed=False, error=False) == -1 and match[n] == 1 and part_match[n] == 1 and sr[n] == 0:\n",
    "                gr.add_edges([(curriiD, currpid)])\n",
    "    gr.vs[\"label\"] = gr.vs[\"person\"]\n",
    "    lout =  gr.layout(\"kk\")\n",
    "    cmty = gr.community_multilevel()\n",
    "    my_graph= plot(cmty, layout=lout, bbox=(3000,3000), mark_groups=True, vertex_size=30, vertex_label_size=15)\n",
    "    my_graph.show()"
   ]
  },
  {
   "cell_type": "code",
   "execution_count": 28,
   "metadata": {},
   "outputs": [],
   "source": [
    "diffraceConnect()"
   ]
  },
  {
   "cell_type": "markdown",
   "metadata": {},
   "source": [
    "## Explore Gender "
   ]
  },
  {
   "cell_type": "code",
   "execution_count": 41,
   "metadata": {},
   "outputs": [
    {
     "name": "stdout",
     "output_type": "stream",
     "text": [
      "0\n"
     ]
    },
    {
     "data": {
      "image/png": "[encoded data removed]",
      "text/plain": [
       "<matplotlib.figure.Figure at 0xb156f5a1d0>"
      ]
     },
     "metadata": {},
     "output_type": "display_data"
    }
   ],
   "source": [
    "gender = df['gender']\n",
    "\n",
    "# Display any count of missing data in gender column \n",
    "print(gender.isnull().sum())\n",
    "\n",
    "# 1 is female, 0 is male\n",
    "\n",
    "objg = [\"Female\", \"Male\"]\n",
    "sizes=[4194,4184]\n",
    "color = [\"coral\",\"b\"]\n",
    "plt.pie(sizes,explode=None,labels=objg,autopct='%1.1f%%',colors=color )\n",
    "plt.show()"
   ]
  },
  {
   "cell_type": "markdown",
   "metadata": {},
   "source": [
    "## Explore the Attractive levels \n",
    "\n",
    "For every row we get the two subjects, the person in the round and the person's partner in the round, after having a date session they are asked to give a scale from 0 to 10, 0 being the lowest score and the highest score being 10, this plays a major role for if the two partners have the same high scoring rate then it's most likely that they will be together or would at least like to try to date each other  "
   ]
  },
  {
   "cell_type": "code",
   "execution_count": 43,
   "metadata": {},
   "outputs": [
    {
     "name": "stdout",
     "output_type": "stream",
     "text": [
      " 6.0     1658\n",
      " 7.0     1646\n",
      " 5.0     1260\n",
      " 8.0     1231\n",
      " 4.0      749\n",
      " 9.0      540\n",
      " 3.0      390\n",
      " 10.0     325\n",
      " 2.0      244\n",
      "-1.0      202\n",
      " 1.0      109\n",
      " 0.0        8\n",
      " 6.5        7\n",
      " 7.5        3\n",
      " 9.5        3\n",
      " 3.5        1\n",
      " 9.9        1\n",
      " 8.5        1\n",
      "dtype: int64\n",
      " 6.0     1655\n",
      " 7.0     1642\n",
      " 5.0     1260\n",
      " 8.0     1230\n",
      " 4.0      748\n",
      " 9.0      540\n",
      " 3.0      390\n",
      " 10.0     324\n",
      " 2.0      244\n",
      "-1.0      212\n",
      " 1.0      108\n",
      " 0.0        8\n",
      " 6.5        7\n",
      " 7.5        3\n",
      " 9.5        3\n",
      " 3.5        1\n",
      " 9.9        1\n",
      " 8.5        1\n",
      " 10.5       1\n",
      "dtype: int64\n"
     ]
    },
    {
     "data": {
      "text/plain": [
       "array([[<matplotlib.axes._subplots.AxesSubplot object at 0x000000B157CFBF28>]],\n",
       "      dtype=object)"
      ]
     },
     "execution_count": 43,
     "metadata": {},
     "output_type": "execute_result"
    },
    {
     "data": {
      "image/png": "[encoded data removed]",
      "text/plain": [
       "<matplotlib.figure.Figure at 0xb156fbb668>"
      ]
     },
     "metadata": {},
     "output_type": "display_data"
    },
    {
     "data": {
      "image/png": "[encoded data removed]",
      "text/plain": [
       "<matplotlib.figure.Figure at 0xb156f457b8>"
      ]
     },
     "metadata": {},
     "output_type": "display_data"
    }
   ],
   "source": [
    "# Rating of the participant gives to his/her partner \n",
    "attr = df['attr']\n",
    "\n",
    "# Rating of the participant's partner gave to the participant\n",
    "attro = df['attr_o']\n",
    "\n",
    "# Eliminate the empty values, since we can't use 0 since it's a rating we will change it to -1 as \n",
    "# a way to identify that the rating was unapplicable (nans messes with data sets ) but not values such as -1\n",
    "\n",
    "attr = attr.replace(np.nan, -1)\n",
    "attro = attro.replace(np.nan, -1)\n",
    "\n",
    "\n",
    "# Display the value counts of the ratings of the participants and the partner \n",
    "print(pd.value_counts(attr.values,))\n",
    "print(pd.value_counts(attro.values,))\n",
    "\n",
    "# Plot the Histogram of how the person rated his/ her date's attractivce level \n",
    "df.hist(column = 'attr')\n",
    "\n",
    "# Plot the Histogram of how the person rated his/ her date's attractivce level \n",
    "df.hist(column = 'attr_o')"
   ]
  },
  {
   "cell_type": "code",
   "execution_count": 51,
   "metadata": {},
   "outputs": [],
   "source": [
    "def attr_Levels():\n",
    "    gr=Graph()\n",
    "    gr.add_vertices(iiD.nunique())\n",
    "    gr.vs[\"person\"] = iiD.unique()\n",
    "    for n in range(0,iiD.size):\n",
    "        if not math.isnan(iiD[n]) and not math.isnan(pid[n]):\n",
    "            curriiD=iiD[n]-1\n",
    "            currpid= int(pid[n])-1\n",
    "            if iiD[n]>117:\n",
    "                curriiD = curriiD - 1\n",
    "            if pid[n]>117:\n",
    "                currpid = currpid-1\n",
    "            if gr.get_eid(curriiD, currpid, directed=False, error=False) == -1 and attr[n]>= 7 and attro[n]>=7:\n",
    "                gr.add_edges([(curriiD, currpid)])\n",
    "    gr.vs[\"label\"] = gr.vs[\"person\"]\n",
    "    lout =  gr.layout(\"kk\")\n",
    "    cmty = gr.community_multilevel()\n",
    "    my_graph= plot(cmty, layout=lout, bbox=(3000,3000), mark_groups=True, vertex_size=30, vertex_label_size=15)\n",
    "    my_graph.show()"
   ]
  },
  {
   "cell_type": "code",
   "execution_count": 52,
   "metadata": {},
   "outputs": [],
   "source": [
    "attr_Levels()"
   ]
  },
  {
   "cell_type": "markdown",
   "metadata": {},
   "source": [
    "## Religion Importance\n",
    " This is a strange factor to use when it comes to deterimining if the speed daters will match or not; however this may be an interesting factor to use when it comes to determining the possibility of the speed daters matching together"
   ]
  },
  {
   "cell_type": "code",
   "execution_count": 53,
   "metadata": {},
   "outputs": [
    {
     "name": "stdout",
     "output_type": "stream",
     "text": [
      "[ 4.  5.  1.  3.  2.  8. 10.  6.  0.  7.  9.]\n",
      "1.0     3032\n",
      "3.0      929\n",
      "2.0      863\n",
      "5.0      697\n",
      "6.0      661\n",
      "4.0      524\n",
      "8.0      517\n",
      "7.0      467\n",
      "10.0     327\n",
      "9.0      282\n",
      "0.0       79\n",
      "dtype: int64\n"
     ]
    },
    {
     "data": {
      "image/png": "[encoded data removed]",
      "text/plain": [
       "<matplotlib.figure.Figure at 0xb157d616d8>"
      ]
     },
     "metadata": {},
     "output_type": "display_data"
    }
   ],
   "source": [
    "relig = df['imprelig']\n",
    "\n",
    "# Replace the nan with 0 we can use 0 to interpret as unkown or not applicable.\n",
    "relig = relig.replace(np.nan,0)\n",
    "\n",
    "print(relig.unique())\n",
    "objr = ('0','1','2','3','4','5','6','7','8','9','10')\n",
    "y_posr = np.arange(len(objr))\n",
    "freq_relig =[0,3032,863,929,524,697,661,467,517,282,327]\n",
    "\n",
    "print(pd.value_counts(relig.values))\n",
    "\n",
    "# Display the graph of how much religon matterred in finding a match \n",
    "plt.bar(y_posr, freq_relig, align='center', alpha=1)\n",
    "plt.xticks(y_posr, objr)\n",
    "plt.show()\n"
   ]
  },
  {
   "cell_type": "markdown",
   "metadata": {},
   "source": [
    "Judging by the bar graph displayed by the speed dating data set the importance of religion doesn't really matter; however there are a decent number of people who  believe that religion is important when it comes to finding a partner"
   ]
  },
  {
   "cell_type": "code",
   "execution_count": 68,
   "metadata": {},
   "outputs": [],
   "source": [
    "# Display network graphs that shows the connections where the importance of religion is at least 7 and that they matched with somebody \n",
    "def religionConnections():\n",
    "    gr=Graph()\n",
    "    gr.add_vertices(iiD.nunique())\n",
    "    gr.vs[\"person\"] = iiD.unique()\n",
    "    for n in range(0,iiD.size):\n",
    "        if not math.isnan(iiD[n]) and not math.isnan(pid[n]):\n",
    "            curriiD=iiD[n]-1\n",
    "            currpid= int(pid[n])-1\n",
    "            if iiD[n]>117:\n",
    "                curriiD = curriiD - 1\n",
    "            if pid[n]>117:\n",
    "                currpid = currpid-1\n",
    "            if gr.get_eid(curriiD, currpid, directed=False, error=False) == -1 and relig[n] >=7 and match[n]==1 and part_match[n]==1 :\n",
    "                gr.add_edges([(curriiD, currpid)])\n",
    "    gr.vs[\"label\"] = gr.vs[\"person\"]\n",
    "    lout =  gr.layout(\"kk\")\n",
    "    cmty = gr.community_multilevel()\n",
    "    my_graph= plot(cmty, layout=lout, bbox=(3000,3000), mark_groups=True, vertex_size=30, vertex_label_size=15) \n",
    "    my_graph.show()\n",
    "        \n",
    "        \n",
    "    "
   ]
  },
  {
   "cell_type": "code",
   "execution_count": 72,
   "metadata": {},
   "outputs": [],
   "source": [
    "religionConnections()"
   ]
  },
  {
   "cell_type": "code",
   "execution_count": 62,
   "metadata": {},
   "outputs": [
    {
     "name": "stdout",
     "output_type": "stream",
     "text": [
      "0    6998\n",
      "1    1380\n",
      "dtype: int64\n"
     ]
    },
    {
     "data": {
      "image/png": "[encoded data removed]",
      "text/plain": [
       "<matplotlib.figure.Figure at 0xb156dceac8>"
      ]
     },
     "metadata": {},
     "output_type": "display_data"
    }
   ],
   "source": [
    "# Display the The counts of yes it's a match and no not a match \n",
    "print(pd.value_counts(match.values,))\n",
    "\n",
    "# 1 is female, 0 is male\n",
    "\n",
    "objm = [\"No\", \"Yes\"]\n",
    "sizes=[6998,1380]\n",
    "color = [\"y\",\"g\"]\n",
    "plt.pie(sizes,explode=None,labels=objm,autopct='%1.1f%%',colors=color )\n",
    "plt.show()"
   ]
  },
  {
   "cell_type": "code",
   "execution_count": 66,
   "metadata": {},
   "outputs": [],
   "source": [
    "def matchesgraph():\n",
    "    gr=Graph()\n",
    "    gr.add_vertices(iiD.nunique())\n",
    "    gr.vs[\"person\"] = iiD.unique()\n",
    "    for n in range(0,iiD.size):\n",
    "        if not math.isnan(iiD[n]) and not math.isnan(pid[n]):\n",
    "            curriiD=iiD[n]-1\n",
    "            currpid= int(pid[n])-1\n",
    "            if iiD[n]>117:\n",
    "                curriiD = curriiD - 1\n",
    "            if pid[n]>117:\n",
    "                currpid = currpid-1\n",
    "            if gr.get_eid(curriiD, currpid, directed=False, error=False) == -1 and part_match[n] ==1 and match[n]==1 :\n",
    "                gr.add_edges([(curriiD, currpid)])\n",
    "    gr.vs[\"label\"] = gr.vs[\"person\"]\n",
    "    lout =  gr.layout(\"kk\")\n",
    "    cmty = gr.community_multilevel()\n",
    "    my_graph= plot(cmty, layout=lout, bbox=(3000,3000), mark_groups=True, vertex_size=30, vertex_label_size=15) \n",
    "    my_graph.show()\n",
    "    "
   ]
  },
  {
   "cell_type": "code",
   "execution_count": 67,
   "metadata": {},
   "outputs": [],
   "source": [
    "matchesgraph()"
   ]
  },
  {
   "cell_type": "code",
   "execution_count": 71,
   "metadata": {},
   "outputs": [],
   "source": [
    "income = df['income']"
   ]
  },
  {
   "cell_type": "code",
   "execution_count": null,
   "metadata": {},
   "outputs": [],
   "source": []
  }
 ],
 "metadata": {
  "kernelspec": {
   "display_name": "Python 3",
   "language": "python",
   "name": "python3"
  },
  "language_info": {
   "codemirror_mode": {
    "name": "ipython",
    "version": 3
   },
   "file_extension": ".py",
   "mimetype": "text/x-python",
   "name": "python",
   "nbconvert_exporter": "python",
   "pygments_lexer": "ipython3",
   "version": "3.6.4"
  }
 },
 "nbformat": 4,
 "nbformat_minor": 2
}
